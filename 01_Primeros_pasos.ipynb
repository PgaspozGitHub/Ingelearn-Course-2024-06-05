{
  "cells": [
    {
      "cell_type": "markdown",
      "metadata": {
        "id": "view-in-github",
        "colab_type": "text"
      },
      "source": [
        "<a href=\"https://colab.research.google.com/github/PgaspozGitHub/Ingelearn-Course-2024-06-05/blob/EjercicioPython1/01_Primeros_pasos.ipynb\" target=\"_parent\"><img src=\"https://colab.research.google.com/assets/colab-badge.svg\" alt=\"Open In Colab\"/></a>"
      ]
    },
    {
      "cell_type": "markdown",
      "metadata": {
        "id": "xk30G5BXNxgK"
      },
      "source": [
        "## Primeros pasos con Python\n",
        "\n",
        "_**Workshop:** Python para la industria 4.0 --- Ingelearn_\n",
        "\n",
        "_**Instructor:** Ignacio Lavaggi_\n",
        "\n",
        "Vamos a dar nuestros primeros pasos con Python, usando ésta herramienta para programar, además de admitir anotaciones: La libreta de Jupyter."
      ]
    },
    {
      "cell_type": "markdown",
      "metadata": {
        "id": "MRA3afycNxgM"
      },
      "source": [
        "### ¡Hola, Mundo!\n",
        "\n",
        "Para mostrar cualquier cosa en la consola, o en la parte inferior, podemos usar el comando print, y entre paréntesis poner lo que queremos:\n",
        "- print(\"texto\")\n",
        "- print(variable)\n",
        "- print(f\"texto {variable}\")"
      ]
    },
    {
      "cell_type": "code",
      "execution_count": null,
      "metadata": {
        "id": "gjsCHc2ENxgN",
        "outputId": "1bfc87f4-388b-4a97-cdad-681a3462d923",
        "colab": {
          "base_uri": "https://localhost:8080/"
        }
      },
      "outputs": [
        {
          "output_type": "stream",
          "name": "stdout",
          "text": [
            "Hola Mundo\n"
          ]
        }
      ],
      "source": [
        "print(\"Hola Mundo\")"
      ]
    },
    {
      "cell_type": "markdown",
      "metadata": {
        "id": "WtTuFmxPNxgO"
      },
      "source": [
        "Tu turno:"
      ]
    },
    {
      "cell_type": "code",
      "execution_count": null,
      "metadata": {
        "id": "zS3sM0ukNxgO",
        "colab": {
          "base_uri": "https://localhost:8080/"
        },
        "outputId": "c188fbbb-0693-4331-f884-96b583df0888"
      },
      "outputs": [
        {
          "output_type": "stream",
          "name": "stdout",
          "text": [
            "Hola desde Automation Training\n"
          ]
        }
      ],
      "source": [
        "print(\"Hola desde Automation Training\")"
      ]
    },
    {
      "cell_type": "markdown",
      "metadata": {
        "id": "rvGSKDOkNxgO"
      },
      "source": [
        "### Variables\n",
        "\n",
        "Las variables son \"cajones\" en donde podemos almacenar información.\n",
        "Podemos guardar textos, números, símbolos, o incluso listas o arreglos enteros de valores.\n",
        "\n",
        "Veamos la forma más simple de declarar una variable:"
      ]
    },
    {
      "cell_type": "code",
      "execution_count": null,
      "metadata": {
        "id": "t9esraEpNxgO"
      },
      "outputs": [],
      "source": [
        "miVariable = 10"
      ]
    },
    {
      "cell_type": "markdown",
      "metadata": {
        "id": "ljsPEfNrNxgP"
      },
      "source": [
        "¿Qué pasa si imprimimos miVariable?"
      ]
    },
    {
      "cell_type": "code",
      "execution_count": null,
      "metadata": {
        "id": "znQgRmKVNxgP",
        "colab": {
          "base_uri": "https://localhost:8080/"
        },
        "outputId": "9a8a207b-b11a-4bbf-c907-eea88c2156b0"
      },
      "outputs": [
        {
          "output_type": "stream",
          "name": "stdout",
          "text": [
            "El valor de MiVariable es  10\n"
          ]
        }
      ],
      "source": [
        "# Rellena con el comando que creas conveniente, por ejemplo:\n",
        "print(\"El valor de MiVariable es \",miVariable)"
      ]
    },
    {
      "cell_type": "markdown",
      "metadata": {
        "id": "bxUeZJT_NxgP"
      },
      "source": [
        "Las variables pueden cambiar fácilmente de valor"
      ]
    },
    {
      "cell_type": "code",
      "execution_count": null,
      "metadata": {
        "id": "u6w06M8_NxgP"
      },
      "outputs": [],
      "source": [
        "miVariable = 3\n",
        "otraVariable = 5"
      ]
    },
    {
      "cell_type": "markdown",
      "metadata": {
        "id": "PdZipLQ9NxgQ"
      },
      "source": [
        "¿Qué pasa si ahora imprimimos el resultado?"
      ]
    },
    {
      "cell_type": "code",
      "execution_count": null,
      "metadata": {
        "id": "otqTiWu3NxgQ",
        "colab": {
          "base_uri": "https://localhost:8080/"
        },
        "outputId": "94122551-4cff-4d6e-fe3c-31833d485c58"
      },
      "outputs": [
        {
          "output_type": "stream",
          "name": "stdout",
          "text": [
            "5\n"
          ]
        }
      ],
      "source": [
        "# Rellena con el comando que creas conveniente, por ejemplo:\n",
        "print(otraVariable)"
      ]
    },
    {
      "cell_type": "markdown",
      "metadata": {
        "id": "mIr-b3AWNxgQ"
      },
      "source": [
        "Las variables también pueden tener \"cuentas\" asociadas."
      ]
    },
    {
      "cell_type": "code",
      "execution_count": null,
      "metadata": {
        "id": "BpFd3BCGNxgQ",
        "colab": {
          "base_uri": "https://localhost:8080/"
        },
        "outputId": "22a4fb5e-2069-4354-e246-43934b5ef2ac"
      },
      "outputs": [
        {
          "output_type": "stream",
          "name": "stdout",
          "text": [
            "F(x) = 10\n"
          ]
        }
      ],
      "source": [
        "x = 3\n",
        "y = 1\n",
        "ecuacion = x**2 + y\n",
        "print(f\"F(x) = {ecuacion}\")"
      ]
    },
    {
      "cell_type": "markdown",
      "metadata": {
        "id": "jc1QmW4zNxgR"
      },
      "source": [
        "### Bibliotecas\n",
        "\n",
        "Las bibliotecas nos permiten expandir las posibilidades de lo que hace Python, lo único que debemos hacer es \"traerlas\" a nuestro programa para aprovechar sus funciones"
      ]
    },
    {
      "cell_type": "code",
      "execution_count": null,
      "metadata": {
        "id": "ir8bJktBNxgR"
      },
      "outputs": [],
      "source": [
        "import math\n",
        "# Math es una biblioteca que tiene funcionalidades bastante\n",
        "# poderosas para operaciones matemáticas"
      ]
    },
    {
      "cell_type": "code",
      "execution_count": null,
      "metadata": {
        "id": "swSxwAcHNxgR"
      },
      "outputs": [],
      "source": [
        "# Cuánto vale \"Pi\"?\n",
        "pi = math.pi"
      ]
    },
    {
      "cell_type": "markdown",
      "source": [
        "Comprobamos si es cierto..."
      ],
      "metadata": {
        "id": "i4YS_P0mQmHm"
      }
    },
    {
      "cell_type": "code",
      "source": [
        "print(pi)"
      ],
      "metadata": {
        "id": "YgqJXBZuQi41",
        "colab": {
          "base_uri": "https://localhost:8080/"
        },
        "outputId": "d8004064-cf9f-47c8-bfc5-7b8c6830003d"
      },
      "execution_count": null,
      "outputs": [
        {
          "output_type": "stream",
          "name": "stdout",
          "text": [
            "3.141592653589793\n"
          ]
        }
      ]
    },
    {
      "cell_type": "markdown",
      "metadata": {
        "id": "5JAb9GP2NxgR"
      },
      "source": [
        "***\n",
        "**Ejercicio:**\n",
        "Calculemos el área de un círculo!\n",
        "\n",
        "\n",
        "\n"
      ]
    },
    {
      "cell_type": "code",
      "execution_count": null,
      "metadata": {
        "id": "Ic3ZIFOZNxgS",
        "colab": {
          "base_uri": "https://localhost:8080/"
        },
        "outputId": "8468d592-291f-4bf9-cfe4-0ae9976665fb"
      },
      "outputs": [
        {
          "output_type": "stream",
          "name": "stdout",
          "text": [
            "El área para un círculo de radio 10 cm es de 314.1592653589793 cm^2\n"
          ]
        }
      ],
      "source": [
        "radio = 10\n",
        "areaCirculo = pi * (radio **2) #rellenar con nuestra ecuación\n",
        "\n",
        "print(f\"El área para un círculo de radio {radio} cm es de {areaCirculo} cm^2\")"
      ]
    },
    {
      "cell_type": "markdown",
      "metadata": {
        "id": "VB1gM9ciNxgS"
      },
      "source": [
        "### Listas\n",
        "\n",
        "Las listas son conjuntos de valores que me permiten almacenar mucha información\n",
        "\n",
        "Se declaran parecido a una variable, pero cada elemento se separa por una coma, y todo el conjunto se encierra entre corchetes\n",
        "\n",
        "**Ejemplo:**\n",
        "miLista = [5,4,3,2,1]"
      ]
    },
    {
      "cell_type": "code",
      "execution_count": null,
      "metadata": {
        "id": "3qX0CXnQNxgS"
      },
      "outputs": [],
      "source": [
        "planetas = [\"Mercurio\",\"Venus\",\"Tierra\",\"Marte\",\"Júpiter\",\"Saturno\",\"Urano\",\"Neptuno\"]"
      ]
    },
    {
      "cell_type": "markdown",
      "metadata": {
        "id": "q7q89PkvNxgS"
      },
      "source": [
        "Si quiero ver un elemento de la lista, basta con poner el número del elemento entre corchetes.\n",
        "\n",
        "**Ejemplo:**\n",
        "miLista[0]\n",
        "\n",
        "_Nota: En Python, los elementos se cuentan a partir del cero, así que cuando nos referimos a miLista[0], me trae el primer elemento (5)_"
      ]
    },
    {
      "cell_type": "code",
      "execution_count": null,
      "metadata": {
        "id": "aV3r90qNNxgS",
        "colab": {
          "base_uri": "https://localhost:8080/"
        },
        "outputId": "abf734f8-595f-4730-8688-6d1a1d48a209"
      },
      "outputs": [
        {
          "output_type": "stream",
          "name": "stdout",
          "text": [
            "Mercurio\n"
          ]
        }
      ],
      "source": [
        "# ¿Cuál es el segundo planeta del sistema solar?\n",
        "print(planetas[0]) #rellenar"
      ]
    },
    {
      "cell_type": "markdown",
      "metadata": {
        "id": "MD-PLr1INxgT"
      },
      "source": [
        "Python admite números negativos! Si quiero el último elemento de una lista, basta con poner miLista[-1]"
      ]
    },
    {
      "cell_type": "code",
      "execution_count": null,
      "metadata": {
        "id": "s5nKlnG1NxgT",
        "colab": {
          "base_uri": "https://localhost:8080/",
          "height": 35
        },
        "outputId": "81c7abc7-2d10-4676-8267-8d012527c549"
      },
      "outputs": [
        {
          "output_type": "execute_result",
          "data": {
            "text/plain": [
              "'Urano'"
            ],
            "application/vnd.google.colaboratory.intrinsic+json": {
              "type": "string"
            }
          },
          "metadata": {},
          "execution_count": 24
        }
      ],
      "source": [
        "# ¿Cual es el último planeta del sistema solar?\n",
        "planetas[-2]"
      ]
    },
    {
      "cell_type": "markdown",
      "metadata": {
        "id": "0AKUk1FWNxgT"
      },
      "source": [
        "El comando \"append\" nos permite agregar elementos en una lista.\n"
      ]
    },
    {
      "cell_type": "code",
      "execution_count": null,
      "metadata": {
        "id": "IWnvvdt7NxgT"
      },
      "outputs": [],
      "source": [
        "planetas.append(\"Plutón\")"
      ]
    },
    {
      "cell_type": "code",
      "execution_count": null,
      "metadata": {
        "id": "RyKhIuHINxgU",
        "colab": {
          "base_uri": "https://localhost:8080/",
          "height": 35
        },
        "outputId": "72eb38aa-8be2-4593-ae2d-dd57b0548a7e"
      },
      "outputs": [
        {
          "output_type": "execute_result",
          "data": {
            "text/plain": [
              "'Plutón'"
            ],
            "application/vnd.google.colaboratory.intrinsic+json": {
              "type": "string"
            }
          },
          "metadata": {},
          "execution_count": 26
        }
      ],
      "source": [
        "# ¿Cual es el último planeta del sistema solar?\n",
        "planetas[-1]"
      ]
    },
    {
      "cell_type": "markdown",
      "metadata": {
        "id": "bGUDuWcJNxgU"
      },
      "source": [
        "***\n",
        "**Ejercicio:**\n",
        "Ejecutemos el siguiente código. ¿Qué es lo que hace?"
      ]
    },
    {
      "cell_type": "code",
      "execution_count": null,
      "metadata": {
        "id": "PAN50Rq9NxgU",
        "colab": {
          "base_uri": "https://localhost:8080/"
        },
        "outputId": "364ef492-c244-45c1-e64b-2ac6de1d6997"
      },
      "outputs": [
        {
          "output_type": "stream",
          "name": "stdout",
          "text": [
            "F(x) = [-124, -63, -26, -7, 0, 1, 2, 9, 28, 65, 126]\n"
          ]
        }
      ],
      "source": [
        "x = [-5,-4,-3,-2,-1,0,1,2,3,4,5]\n",
        "y = 1\n",
        "fx = [] #lista vacía\n",
        "\n",
        "for elemento in x:\n",
        "    fx.append(elemento**3 + y)\n",
        "\n",
        "print(f\"F(x) = {fx}\")"
      ]
    },
    {
      "cell_type": "markdown",
      "metadata": {
        "id": "leasnLp1NxgV"
      },
      "source": [
        "### Graficar con Python\n",
        "\n",
        "para graficar rápidamente con python, podemos apoyarnos en la biblioteca MatPlotLib"
      ]
    },
    {
      "cell_type": "code",
      "execution_count": null,
      "metadata": {
        "id": "zKDB70zfNxgV"
      },
      "outputs": [],
      "source": [
        "import matplotlib.pyplot as plt"
      ]
    },
    {
      "cell_type": "markdown",
      "metadata": {
        "id": "PXwc2dapNxgV"
      },
      "source": [
        "Lo único que necesitamos para graficar, es decirle qué es lo que queremos en el eje X, y en el eje Y"
      ]
    },
    {
      "cell_type": "code",
      "execution_count": null,
      "metadata": {
        "id": "QC8CjuaINxgW",
        "colab": {
          "base_uri": "https://localhost:8080/",
          "height": 448
        },
        "outputId": "3cad7937-3f52-41dd-e3c5-f863277f7c92"
      },
      "outputs": [
        {
          "output_type": "execute_result",
          "data": {
            "text/plain": [
              "[<matplotlib.lines.Line2D at 0x7ab57c10d600>]"
            ]
          },
          "metadata": {},
          "execution_count": 31
        },
        {
          "output_type": "display_data",
          "data": {
            "text/plain": [
              "<Figure size 640x480 with 1 Axes>"
            ],
            "image/png": "[encoded data removed]"
          },
          "metadata": {}
        }
      ],
      "source": [
        "plt.plot(\n",
        "    x, # primero el eje X\n",
        "    fx, # luego el eje Y\n",
        "    )"
      ]
    },
    {
      "cell_type": "markdown",
      "metadata": {
        "id": "XWj2rTy9NxgW"
      },
      "source": [
        "Podemos darle estilos y colores con style.use\n",
        "\n",
        "Aquí hay una lista de estilos:\n",
        "https://matplotlib.org/stable/gallery/style_sheets/style_sheets_reference.html"
      ]
    },
    {
      "cell_type": "code",
      "execution_count": null,
      "metadata": {
        "id": "WYx0Xl-gNxgW",
        "colab": {
          "base_uri": "https://localhost:8080/",
          "height": 448
        },
        "outputId": "8e314564-9f5f-4d13-fdba-f356bfff2061"
      },
      "outputs": [
        {
          "output_type": "execute_result",
          "data": {
            "text/plain": [
              "[<matplotlib.lines.Line2D at 0x7ab57c179450>]"
            ]
          },
          "metadata": {},
          "execution_count": 32
        },
        {
          "output_type": "display_data",
          "data": {
            "text/plain": [
              "<Figure size 640x480 with 1 Axes>"
            ],
            "image/png": "[encoded data removed]"
          },
          "metadata": {}
        }
      ],
      "source": [
        "plt.style.use(\"ggplot\")\n",
        "plt.plot(\n",
        "    x, # primero el eje X\n",
        "    fx, # luego el eje Y\n",
        "    )"
      ]
    }
  ],
  "metadata": {
    "kernelspec": {
      "display_name": "Python 3",
      "name": "python3"
    },
    "language_info": {
      "name": "python"
    },
    "orig_nbformat": 4,
    "colab": {
      "provenance": [],
      "include_colab_link": true
    }
  },
  "nbformat": 4,
  "nbformat_minor": 0
}